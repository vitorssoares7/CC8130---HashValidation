{
 "cells": [
  {
   "cell_type": "code",
   "execution_count": 2,
   "id": "7d7680e1",
   "metadata": {},
   "outputs": [
    {
     "name": "stdout",
     "output_type": "stream",
     "text": [
      "# Vitor Soares - 22.119.043-2\n",
      "\n",
      "                                                text  sha256    md5\n",
      "0  A primeira das instituições criadas por Pe. Ro...    True   True\n",
      "1  A FEI é uma Instituição vinculada estatutariam...   False   True\n",
      "2  Em 20 de janeiro de 1952 foi realizada a sessã...   False  False\n",
      "3  A Capela Santo Inácio de Loyola foi construída...    True   True\n",
      "4  Tendo como função principal a promoção do apri...   False  False\n",
      "5  Dentro de uma proposta de integração e de agre...    True   True\n",
      "6  O Centro Universitário da FEI passou a fazer p...    True   True\n",
      "7  Em 2016 foi realizada a primeira edição do Con...    True   True\n",
      "8  Em 2012 o Centro Universitário FEI celebrou 70...   False  False\n",
      "9  Em 1999 iniciam-se as atividades da Faculdade ...    True  False\n"
     ]
    }
   ],
   "source": [
    "from hashlib import md5, sha256\n",
    "import pandas as pd\n",
    "\n",
    "from hashes import getHashes\n",
    "\n",
    "def main():\n",
    "    print(\"# Vitor Soares - 22.119.043-2\")\n",
    "    print()\n",
    "\n",
    "    hashes = getHashes()\n",
    "    answer = []\n",
    "\n",
    "    for hash in hashes:\n",
    "        sha256_obj = sha256()\n",
    "        md5_obj = md5()\n",
    "\n",
    "        text = hash[0]\n",
    "\n",
    "        sha256_obj.update(text.encode())\n",
    "        sha256_hash = sha256_obj.hexdigest()\n",
    "        is_sha256_equal = False\n",
    "        if sha256_hash == hash[1]:\n",
    "            is_sha256_equal = True\n",
    "\n",
    "        md5_obj.update(text.encode())\n",
    "        md5_hash = md5_obj.hexdigest()\n",
    "        is_md5_equal = False\n",
    "        if md5_hash == hash[2]:\n",
    "            is_md5_equal = True\n",
    "\n",
    "        result = {\"text\": text, \"sha256\": is_sha256_equal, \"md5\": is_md5_equal}\n",
    "        answer.append(result)\n",
    "\n",
    "    df = pd.DataFrame(answer)\n",
    "    print(df)\n",
    "\n",
    "main()"
   ]
  }
 ],
 "metadata": {
  "kernelspec": {
   "display_name": "Python 3 (ipykernel)",
   "language": "python",
   "name": "python3"
  },
  "language_info": {
   "codemirror_mode": {
    "name": "ipython",
    "version": 3
   },
   "file_extension": ".py",
   "mimetype": "text/x-python",
   "name": "python",
   "nbconvert_exporter": "python",
   "pygments_lexer": "ipython3",
   "version": "3.9.12"
  }
 },
 "nbformat": 4,
 "nbformat_minor": 5
}
